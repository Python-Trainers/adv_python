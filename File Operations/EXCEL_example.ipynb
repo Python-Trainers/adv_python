{
 "cells": [
  {
   "cell_type": "code",
   "execution_count": null,
   "metadata": {},
   "outputs": [],
   "source": [
    "# Working with Excel file..."
   ]
  },
  {
   "cell_type": "code",
   "execution_count": 1,
   "metadata": {},
   "outputs": [
    {
     "name": "stdout",
     "output_type": "stream",
     "text": [
      "          Name of KAG                         Fund Name  Value of Fund\n",
      "0   Caceis Luxembourg        BG Actions Europe Equities   5.873823e+08\n",
      "1   Caceis Luxembourg        BG Actions Europe Equities   5.873823e+08\n",
      "2   Caceis Luxembourg        BG Actions Europe Equities   5.873823e+08\n",
      "3   Caceis Luxembourg        BG Actions Europe Equities   5.873823e+08\n",
      "4             INVESCO                        Mediolanum   1.519029e+09\n",
      "5             INVESCO                        Mediolanum   1.519029e+09\n",
      "6             INVESCO                        Mediolanum   1.519029e+09\n",
      "7             INVESCO                        Mediolanum   1.519029e+09\n",
      "8   Caceis Luxembourg  BGS - Invesco Real Assets Return   1.071164e+08\n",
      "9   Caceis Luxembourg  BGS - Invesco Real Assets Return   1.071164e+08\n",
      "10  Caceis Luxembourg  BGS - Invesco Real Assets Return   1.071164e+08\n",
      "11  Caceis Luxembourg  BGS - Invesco Real Assets Return   1.071164e+08\n",
      "done\n"
     ]
    }
   ],
   "source": [
    "import pandas as pd\n",
    "import datetime\n",
    "now = datetime.datetime.now()\n",
    "nowstr =str(now.strftime(\"%m%d%Y%H%M%S\"))\n",
    "\n",
    "# Source Files locations...    \n",
    "source_folder = r\"C:/Users/damodv/APT/\"\n",
    "\n",
    "# Source File mask ...\n",
    "src_file = source_folder+\"EXCEL_File.xlsx\"\n",
    "df = pd.read_excel(src_file, sheet_name='Data')\n",
    "#print(df)\n",
    "\n",
    "new_df= df[['Name of KAG','Fund Name','Value of Fund']]\n",
    "print(new_df)\n",
    "\n",
    "# Cerate the output text file...\n",
    "new_df.to_csv(source_folder+'new_excel_'+nowstr+'.csv',index=False,sep=\",\",header=True)      \n",
    "print(\"done\")"
   ]
  },
  {
   "cell_type": "code",
   "execution_count": null,
   "metadata": {},
   "outputs": [],
   "source": []
  }
 ],
 "metadata": {
  "kernelspec": {
   "display_name": "Python 3",
   "language": "python",
   "name": "python3"
  },
  "language_info": {
   "codemirror_mode": {
    "name": "ipython",
    "version": 3
   },
   "file_extension": ".py",
   "mimetype": "text/x-python",
   "name": "python",
   "nbconvert_exporter": "python",
   "pygments_lexer": "ipython3",
   "version": "3.7.3"
  }
 },
 "nbformat": 4,
 "nbformat_minor": 2
}
