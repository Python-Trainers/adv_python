{
 "cells": [
  {
   "cell_type": "markdown",
   "metadata": {},
   "source": [
    "## Access Modes....\n",
    "Access modes govern the type of operations possible in the opened file. \n",
    "It refers to how the file will be used once its opened. These modes also define \n",
    "the location of the File Handle in the file. File handle is like a cursor, \n",
    "which defines from where the data has to be read or written in the file. \n",
    "There are 6 access modes in python.\n",
    "01.Read Only ('r')  : Open text file for reading, this is defult mode\n",
    "                      The handle is positioned at the beginning of the file. \n",
    "                      Raises I/O error if the file does not exists.                      \n",
    "02.Read&Write('r+') : Open the file for reading and writing. \n",
    "                      The handle is positioned at the beginning of the file. \n",
    "                      Raises I/O error if the file does not exists.\n",
    "03.Write Only ('w') : Open the file for writing. \n",
    "                      The handle is positioned at the beginning of the file.\n",
    "                      For existing file the data is truncated and over-written. \n",
    "                      Creates the file if the file does not exists.\n",
    "04.Write&Read ('w+) : Open the file for reading and writing for existing file.\n",
    "                      The handle is positioned at the beginning of the file.\n",
    "                      Data is truncated and over-written. \n",
    "05.Append Only ('a'): Open the file for writing. \n",
    "                      The handle is positioned at the end of the file.\n",
    "                      The data being written will be inserted at the end,\n",
    "                      after the existing data.\n",
    "                      The file is created if it does not exist.\n",
    "06.Append&Read('a+'): Open the file for reading and writing. \n",
    "                      The handle is positioned at the end of the file. \n",
    "                      The data being written will be inserted at the end, \n",
    "                      after the existing data.\n",
    "                      The file is created if it does not exist. "
   ]
  },
  {
   "cell_type": "markdown",
   "metadata": {},
   "source": [
    "## Working with paths..."
   ]
  },
  {
   "cell_type": "code",
   "execution_count": null,
   "metadata": {},
   "outputs": [],
   "source": [
    "import os\n",
    "\n",
    "#this will print the current dir loaction...\n",
    "current_file = os.path.realpath('t.ipynb')  \n",
    "print('current file: {}'.format(current_file))\n",
    "\n",
    "#this will print the current dir name...\n",
    "current_dir = os.path.dirname(current_file)  \n",
    "print('current directory: {}'.format(current_dir))\n",
    "\n",
    "data_dir = os.path.join(os.path.dirname(current_dir), 'APT_Data')\n",
    "print('data directory: {}'.format(data_dir))"
   ]
  },
  {
   "cell_type": "markdown",
   "metadata": {},
   "source": [
    "## Using Write mode..."
   ]
  },
  {
   "cell_type": "code",
   "execution_count": null,
   "metadata": {},
   "outputs": [],
   "source": [
    "import os\n",
    "new_file = open('v600.txt',\"w+\")\n",
    "for i in range(10):\n",
    "     new_file.write(\"This is line %d\\r\\n\" % (i+1))\n",
    "new_file.close() \n"
   ]
  },
  {
   "cell_type": "code",
   "execution_count": null,
   "metadata": {},
   "outputs": [],
   "source": [
    "existing_file = open('v600.txt',\"w\")\n",
    "for i in range(10,0,-2):\n",
    "     existing_file.write(\"This is line %d\\r\\n\" % (i+1))\n",
    "new_file.close()"
   ]
  },
  {
   "cell_type": "markdown",
   "metadata": {},
   "source": [
    "## Using Read mode..."
   ]
  },
  {
   "cell_type": "code",
   "execution_count": null,
   "metadata": {},
   "outputs": [],
   "source": [
    "file_path = os.path.join(data_dir, 'TEXT_File.txt')\n",
    "# this will clese the file implecitly ...\n",
    "with open(file_path, 'r') as simple_file:\n",
    "    for line in simple_file:\n",
    "        print(line.strip())"
   ]
  },
  {
   "cell_type": "code",
   "execution_count": null,
   "metadata": {},
   "outputs": [],
   "source": [
    "file_path = os.path.join(data_dir, 'v600.txt')\n",
    "\n",
    "# This is NOT the preferred way ...\n",
    "simple_file = open(file_path, 'r')\n",
    "for line in simple_file:\n",
    "    print(line.strip())\n",
    "simple_file.close()  # This has to be called explicitly "
   ]
  },
  {
   "cell_type": "code",
   "execution_count": 58,
   "metadata": {},
   "outputs": [
    {
     "name": "stdout",
     "output_type": "stream",
     "text": [
      "testPython\n"
     ]
    }
   ],
   "source": [
    "file = os.path.join(data_dir, 'v600.txt')\n",
    "# this will clese the file implecitly ...\n",
    "with open(file, 'r+') as simple_file:\n",
    "    simple_file.write('testPython')\n",
    "        \n",
    "with open(file, 'r') as simple_file:\n",
    "    for line in simple_file:        \n",
    "        print(line.strip())"
   ]
  },
  {
   "cell_type": "code",
   "execution_count": null,
   "metadata": {},
   "outputs": [],
   "source": []
  }
 ],
 "metadata": {
  "kernelspec": {
   "display_name": "Python 3",
   "language": "python",
   "name": "python3"
  },
  "language_info": {
   "codemirror_mode": {
    "name": "ipython",
    "version": 3
   },
   "file_extension": ".py",
   "mimetype": "text/x-python",
   "name": "python",
   "nbconvert_exporter": "python",
   "pygments_lexer": "ipython3",
   "version": "3.7.3"
  }
 },
 "nbformat": 4,
 "nbformat_minor": 2
}
