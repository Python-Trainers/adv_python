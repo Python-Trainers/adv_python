{
 "cells": [
  {
   "cell_type": "markdown",
   "metadata": {},
   "source": [
    "# Working with TEXT files..."
   ]
  },
  {
   "cell_type": "code",
   "execution_count": 1,
   "metadata": {},
   "outputs": [
    {
     "name": "stdout",
     "output_type": "stream",
     "text": [
      "   EFFECTIVE_DATE ENTITY_TYPE   ENTITY_NAME\n",
      "0        20200318        ACCT     75048001C\n",
      "1        20200318        ACCT    T-35410-87\n",
      "2        20200318        ACCT    01CB0334XX\n",
      "3        20200318        ACCT   T-35446-160\n",
      "4        20200318        ACCT          PQVM\n",
      "5        20200318        ACCT      APAM-J21\n",
      "6        20200318        ACCT  2159ZZ-33078\n",
      "7        20200318        ACCT  32740-2159SS\n",
      "done\n"
     ]
    }
   ],
   "source": [
    "import pandas as pd\n",
    "import datetime\n",
    "now = datetime.datetime.now()\n",
    "nowstr =str(now.strftime(\"%m%d%Y%H%M%S\"))\n",
    "\n",
    "# Source Files locations...    \n",
    "source_folder = r\"C:/Users/damodv/APT/\"\n",
    "\n",
    "# Source File mask ...\n",
    "src_file = source_folder+\"TEXT_File.txt\"\n",
    "df = pd.read_csv(src_file,delimiter = '|',skiprows=[0,-1],skipfooter=1,engine='python')\n",
    "\n",
    "new_df= df[['EFFECTIVE_DATE','ENTITY_TYPE','ENTITY_NAME']]\n",
    "print(new_df)\n",
    "\n",
    "# Cerate the output text file...\n",
    "new_df.to_csv(source_folder+'new_text_'+nowstr+'.txt',index=False,sep=\"|\",header=True)      \n",
    "print(\"done\")"
   ]
  },
  {
   "cell_type": "code",
   "execution_count": null,
   "metadata": {},
   "outputs": [],
   "source": []
  },
  {
   "cell_type": "code",
   "execution_count": null,
   "metadata": {},
   "outputs": [],
   "source": []
  },
  {
   "cell_type": "code",
   "execution_count": null,
   "metadata": {},
   "outputs": [],
   "source": []
  }
 ],
 "metadata": {
  "kernelspec": {
   "display_name": "Python 3",
   "language": "python",
   "name": "python3"
  },
  "language_info": {
   "codemirror_mode": {
    "name": "ipython",
    "version": 3
   },
   "file_extension": ".py",
   "mimetype": "text/x-python",
   "name": "python",
   "nbconvert_exporter": "python",
   "pygments_lexer": "ipython3",
   "version": "3.7.3"
  }
 },
 "nbformat": 4,
 "nbformat_minor": 2
}
