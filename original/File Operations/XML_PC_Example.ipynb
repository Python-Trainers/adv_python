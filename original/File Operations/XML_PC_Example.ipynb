{
 "cells": [
  {
   "cell_type": "markdown",
   "metadata": {},
   "source": [
    "# Working with XML..."
   ]
  },
  {
   "cell_type": "code",
   "execution_count": null,
   "metadata": {},
   "outputs": [],
   "source": [
    "import pandas as pd\n",
    "from xml.etree import ElementTree as ET\n",
    "import datetime\n",
    "now = datetime.datetime.now()\n",
    "nowstr =str(now.strftime(\"%m%d%Y%H%M%S\"))\n",
    "\n",
    "# Source Files locations...    \n",
    "#source_folder = r\"//houdev01/Apps/Eagle/IVZ/Autosys/VaniAPT/\"   \n",
    "source_folder = r\"C:/Users/damodv/APT/\"\n",
    "\n",
    "# Source File mask ...\n",
    "src_file = source_folder+\"XML_File.xml\"\n",
    "data  = pd.DataFrame([])\n",
    "pdata = pd.DataFrame([]) \n",
    "cdata = pd.DataFrame([])\n",
    " \n",
    "tree = ET.parse(src_file)\n",
    "root = tree.getroot()\n",
    "plevels = root.findall('FUND')\n",
    "for plevel in plevels:\n",
    "    fu = plevel.get('FUND')\n",
    "    bm = plevel.get('BENCHMARK')\n",
    "    dt = plevel.get('ASOF_DATE')\n",
    "#    print(fu,bm,dt) \n",
    "    pdata = pdata.append(pd.DataFrame({'FUND': fu, 'BENCHMARK': bm,'ASOF_DATE': dt}, index=[0]), ignore_index=True)             \n",
    "levels = root.findall('FUND//SUMMARY')\n",
    "for level in levels:\n",
    "        a1 = level.find('PORT_TOTAL_DTD_RETURN_CONTRIB_BP').text\n",
    "        a2 = level.find('BENCH_TOTAL_DTD_RETURN_CONTRIB_BP').text\n",
    "        a3 = level.find('PORT_TOTAL_MTD_RETURN_CONTRIB_BP').text\n",
    "        a4 = level.find('BENCH_TOTAL_MTD_RETURN_CONTRIB_BP').text\n",
    "        a5 = level.find('PORT_TOTAL_QTD_RETURN_CONTRIB_BP').text\n",
    "        a6 = level.find('BENCH_TOTAL_QTD_RETURN_CONTRIB_BP').text\n",
    "        a7 = level.find('PORT_TOTAL_YTD_RETURN_CONTRIB_BP').text\n",
    "        a8 = level.find('BENCH_TOTAL_YTD_RETURN_CONTRIB_BP').text           \n",
    "        cdata = cdata.append(pd.DataFrame({'PORT_TOTAL_DTD_RETURN_CONTRIB_BP':a1,'BENCH_TOTAL_DTD_RETURN_CONTRIB_BP':a2,'PORT_TOTAL_MTD_RETURN_CONTRIB_BP':a3,'BENCH_TOTAL_MTD_RETURN_CONTRIB_BP': a4,'PORT_TOTAL_QTD_RETURN_CONTRIB_BP':a5,'BENCH_TOTAL_QTD_RETURN_CONTRIB_BP':a6,'PORT_TOTAL_YTD_RETURN_CONTRIB_BP':a7,'BENCH_TOTAL_YTD_RETURN_CONTRIB_BP':a8}, index=[0]), ignore_index=True)            \n",
    "\n",
    "d = pd.concat([pdata,cdata],axis = 1)\n",
    "print(d)\n",
    "# Cerate the output text file...\n",
    "d.to_csv(source_folder+'XML_ofile_'+nowstr+'.csv',index=False,sep=\",\",header=True)      \n",
    "print(\"done\")"
   ]
  }
 ],
 "metadata": {
  "kernelspec": {
   "display_name": "Python 3",
   "language": "python",
   "name": "python3"
  },
  "language_info": {
   "codemirror_mode": {
    "name": "ipython",
    "version": 3
   },
   "file_extension": ".py",
   "mimetype": "text/x-python",
   "name": "python",
   "nbconvert_exporter": "python",
   "pygments_lexer": "ipython3",
   "version": "3.7.3"
  }
 },
 "nbformat": 4,
 "nbformat_minor": 2
}
