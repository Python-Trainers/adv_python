{
 "cells": [
  {
   "cell_type": "markdown",
   "metadata": {},
   "source": [
    "1.\n",
    "\n",
    "Connect to your fav database, create the following table\n",
    "\n",
    "Emp_id: Number, Emp_name: varchar, Manger_id: Number, Dept_id: Number, Salary: Number\n",
    "\n",
    "Insert around 10 records in the table\n",
    "\n",
    "Perform the below Select operations\n",
    "Q. Find the employee with the second max salary\n",
    "Q. Find the employee in each dept with more than the avg salary of the dept\n",
    "\n",
    "\n",
    "Use try-except-else-finally whereever applicable\n",
    "Modulerize the code, move the database connection creation to a seperate module\n",
    "Use appropriate logging all the way"
   ]
  },
  {
   "cell_type": "code",
   "execution_count": null,
   "metadata": {},
   "outputs": [],
   "source": []
  }
 ],
 "metadata": {
  "kernelspec": {
   "display_name": "Python 3",
   "language": "python",
   "name": "python3"
  },
  "language_info": {
   "codemirror_mode": {
    "name": "ipython",
    "version": 3
   },
   "file_extension": ".py",
   "mimetype": "text/x-python",
   "name": "python",
   "nbconvert_exporter": "python",
   "pygments_lexer": "ipython3",
   "version": "3.7.6"
  }
 },
 "nbformat": 4,
 "nbformat_minor": 4
}
