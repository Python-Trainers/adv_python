{
 "cells": [
  {
   "cell_type": "markdown",
   "metadata": {},
   "source": [
    "# Python access to Databases"
   ]
  },
  {
   "cell_type": "markdown",
   "metadata": {},
   "source": [
    "The model of querying databases using DB API 2.0 remains consistent for all client libraries conforming to the specification. The Python Database API Specification v2.0 is a community effort to unify the model of accessing different database systems. \n",
    "\n",
    "Having a relatively small set of methods and properties, it is easy to learn and remains consistent when switching database vendors. It doesn't map database objects to Python structures in any way. Users are still required to write SQL by hand. After changing to another database, this SQL would probably need to be rewritten. Nevertheless it solves Python-database connectivity issues in an elegant and clean manner.\n",
    "\n",
    "The specification defines parts of the API such as the module interface, connection objects, cursor objects, type objects and constructors, optional extensions to the DB API and optional error handling mechanisms.\n",
    "\n",
    "The gateway between the database and Python language is the Connection object. It contains all the ingredients for cooking database-driven applications, not only adhering to the DB API 2.0 but being a superset of the specification methods and attributes. \n",
    "\n",
    "Examples: https://github.com/oracle/python-cx_Oracle/tree/master/samples/tutorial"
   ]
  },
  {
   "cell_type": "markdown",
   "metadata": {},
   "source": [
    "#### Create Connection"
   ]
  },
  {
   "cell_type": "code",
   "execution_count": 6,
   "metadata": {},
   "outputs": [
    {
     "name": "stdout",
     "output_type": "stream",
     "text": [
      "Connection established, version  12.1.0.2.0\n"
     ]
    }
   ],
   "source": [
    "#get the version of the database\n",
    "\n",
    "#import appropriate module\n",
    "import cx_Oracle\n",
    "\n",
    "import db_config\n",
    "\n",
    "#create a connection\n",
    "try:\n",
    "    conn = cx_Oracle.connect(db_config.user+'/'+db_config.pwd+'@'+db_config.db)\n",
    "except Exception as err:\n",
    "    print('Exception occured while connecting to the database : ',err)\n",
    "else:\n",
    "    print('Connection established, version ',conn.version)\n",
    "finally:\n",
    "    conn.close()\n",
    "    print('Connection Closed')\n",
    "    \n",
    "    "
   ]
  },
  {
   "cell_type": "markdown",
   "metadata": {},
   "source": [
    "#### Create table with execute()"
   ]
  },
  {
   "cell_type": "code",
   "execution_count": 14,
   "metadata": {},
   "outputs": [
    {
     "name": "stdout",
     "output_type": "stream",
     "text": [
      "Connection established, version  12.1.0.2.0\n",
      "Table Created.\n",
      "Cursor Closed\n",
      "Connection Closed\n"
     ]
    }
   ],
   "source": [
    "#create table\n",
    "\n",
    "#import appropriate module\n",
    "import cx_Oracle\n",
    "\n",
    "import db_config\n",
    "\n",
    "#create a connection\n",
    "try:\n",
    "    conn = cx_Oracle.connect(db_config.user+'/'+db_config.pwd+'@'+db_config.db)    \n",
    "except Exception as err:\n",
    "    print('Exception occured while connecting to the database : ',err)\n",
    "else:\n",
    "    try:\n",
    "        print('Connection established, version ',conn.version)\n",
    "        #prepare the SQL statement\n",
    "        sql_create_table = \"\"\"\n",
    "        CREATE TABLE CEO_DETAILS (\n",
    "        FIRST_NAME VARCHAR2(50),\n",
    "        LAST_NAME VARCHAR2(50),\n",
    "        ORG VARCHAR2(50),\n",
    "        AGE NUMBER\n",
    "        )\"\"\"\n",
    "        \n",
    "        #create a cursor\n",
    "        cur = conn.cursor()\n",
    "        cur.execute(sql_create_table)\n",
    "    except Exception as err:\n",
    "        print('Exception occured while creating the table : ',err)\n",
    "    else:\n",
    "        print('Table Created.')\n",
    "    finally:\n",
    "        cur.close()\n",
    "        print('Cursor Closed')\n",
    "finally:\n",
    "        conn.close()\n",
    "        print('Connection Closed')\n",
    "        \n",
    "        \n",
    "        "
   ]
  },
  {
   "cell_type": "markdown",
   "metadata": {},
   "source": [
    "#### Insert data with execute()"
   ]
  },
  {
   "cell_type": "code",
   "execution_count": 15,
   "metadata": {},
   "outputs": [
    {
     "name": "stdout",
     "output_type": "stream",
     "text": [
      "Connection established, version  12.1.0.2.0\n",
      "Insert Completed.\n",
      "Cursor Closed\n",
      "Connection Closed\n"
     ]
    }
   ],
   "source": [
    "#Insert data, Simple Insert Statement\n",
    "\n",
    "#import appropriate module\n",
    "import cx_Oracle\n",
    "\n",
    "import db_config\n",
    "\n",
    "#create a connection\n",
    "try:\n",
    "    conn = cx_Oracle.connect(db_config.user+'/'+db_config.pwd+'@'+db_config.db)    \n",
    "except Exception as err:\n",
    "    print('Exception occured while connecting to the database : ',err)\n",
    "else:\n",
    "    try:\n",
    "        print('Connection established, version ',conn.version)\n",
    "        #create a cursor\n",
    "        cur = conn.cursor()\n",
    "        sql_insert = \"\"\"\n",
    "        INSERT INTO CEO_DETAILS VALUES ('Steve','Jobs','Apple',56)\n",
    "        \"\"\"\n",
    "        cur.execute(sql_insert)\n",
    "    except Exception as err:\n",
    "        conn.rollback()\n",
    "        print('Exception occured while inserting the data : ',err)\n",
    "    else:\n",
    "        conn.commit()\n",
    "        print('Insert Completed.')\n",
    "    finally:\n",
    "        cur.close()\n",
    "        print('Cursor Closed')\n",
    "finally:\n",
    "        conn.close()\n",
    "        print('Connection Closed')\n",
    "        \n",
    "        \n",
    "        "
   ]
  },
  {
   "cell_type": "markdown",
   "metadata": {},
   "source": [
    "#### Insert data with Bind Variables"
   ]
  },
  {
   "cell_type": "code",
   "execution_count": 16,
   "metadata": {},
   "outputs": [
    {
     "name": "stdout",
     "output_type": "stream",
     "text": [
      "Connection established, version  12.1.0.2.0\n",
      "Insert Completed.\n",
      "Cursor Closed\n",
      "Connection Closed\n"
     ]
    }
   ],
   "source": [
    "#Insert data, Using bind variables\n",
    "\n",
    "#import appropriate module\n",
    "import cx_Oracle\n",
    "\n",
    "import db_config\n",
    "\n",
    "#create a connection\n",
    "try:\n",
    "    conn = cx_Oracle.connect(db_config.user+'/'+db_config.pwd+'@'+db_config.db)    \n",
    "except Exception as err:\n",
    "    print('Exception occured while connecting to the database : ',err)\n",
    "else:\n",
    "    try:\n",
    "        print('Connection established, version ',conn.version)\n",
    "        #create a cursor\n",
    "        cur = conn.cursor()\n",
    "        sql_insert = \"\"\"\n",
    "        INSERT INTO CEO_DETAILS VALUES (:1, :2, :3, :4)\n",
    "        \"\"\"\n",
    "        cur.execute(sql_insert, ['Bill', 'Gates', 'Microsoft', 64])\n",
    "    except Exception as err:\n",
    "        conn.rollback()\n",
    "        print('Exception occured while inserting the data : ',err)\n",
    "    else:\n",
    "        conn.commit()\n",
    "        print('Insert Completed.')\n",
    "    finally:\n",
    "        cur.close()\n",
    "        print('Cursor Closed')\n",
    "finally:\n",
    "        conn.close()\n",
    "        print('Connection Closed')\n",
    "        \n",
    "        \n",
    "        "
   ]
  },
  {
   "cell_type": "markdown",
   "metadata": {},
   "source": [
    "#### Insert Multiple records with executemany()"
   ]
  },
  {
   "cell_type": "code",
   "execution_count": 17,
   "metadata": {},
   "outputs": [
    {
     "name": "stdout",
     "output_type": "stream",
     "text": [
      "Connection established, version  12.1.0.2.0\n",
      "Insert Completed.\n",
      "Cursor Closed\n",
      "Connection Closed\n"
     ]
    }
   ],
   "source": [
    "#Insert data, Using executemany\n",
    "\n",
    "#import appropriate module\n",
    "import cx_Oracle\n",
    "\n",
    "import db_config\n",
    "\n",
    "#create a connection\n",
    "try:\n",
    "    conn = cx_Oracle.connect(db_config.user+'/'+db_config.pwd+'@'+db_config.db)    \n",
    "except Exception as err:\n",
    "    print('Exception occured while connecting to the database : ',err)\n",
    "else:\n",
    "    try:\n",
    "        print('Connection established, version ',conn.version)\n",
    "        #create a cursor\n",
    "        cur = conn.cursor()\n",
    "        sql_insert = \"\"\"\n",
    "        INSERT INTO CEO_DETAILS VALUES (:1, :2, :3, :4)\n",
    "        \"\"\"\n",
    "        details = [('Sundar','Pichai','Google',47), ('Mark','Zuck','Factbook',35)]\n",
    "        cur.executemany(sql_insert, details)\n",
    "    except Exception as err:\n",
    "        conn.rollback()\n",
    "        print('Exception occured while inserting the data : ',err)\n",
    "    else:\n",
    "        conn.commit()\n",
    "        print('Insert Completed.')\n",
    "    finally:\n",
    "        cur.close()\n",
    "        print('Cursor Closed')\n",
    "finally:\n",
    "        conn.close()\n",
    "        print('Connection Closed')\n",
    "        \n",
    "        \n",
    "        "
   ]
  },
  {
   "cell_type": "markdown",
   "metadata": {},
   "source": [
    "#### Select Data with : fetchall()"
   ]
  },
  {
   "cell_type": "code",
   "execution_count": 21,
   "metadata": {},
   "outputs": [
    {
     "name": "stdout",
     "output_type": "stream",
     "text": [
      "Connection established, version  12.1.0.2.0\n",
      "All fetched records : \n",
      "[('Sundar', 'Pichai', 'Google', 47), ('Mark', 'Zuck', 'Factbook', 35)]\n",
      "0  :  ('Sundar', 'Pichai', 'Google', 47)\n",
      "1  :  ('Mark', 'Zuck', 'Factbook', 35)\n",
      "Select Executed\n",
      "Cursor Closed\n",
      "Connection Closed\n"
     ]
    }
   ],
   "source": [
    "#Insert data, Using executemany\n",
    "\n",
    "#import appropriate module\n",
    "import cx_Oracle\n",
    "\n",
    "import db_config\n",
    "\n",
    "#create a connection\n",
    "try:\n",
    "    conn = cx_Oracle.connect(db_config.user+'/'+db_config.pwd+'@'+db_config.db)    \n",
    "except Exception as err:\n",
    "    print('Exception occured while connecting to the database : ',err)\n",
    "else:\n",
    "    try:\n",
    "        print('Connection established, version ',conn.version)\n",
    "        #create a cursor\n",
    "        cur = conn.cursor()\n",
    "        sql_select  = \"\"\"\n",
    "        SELECT * FROM CEO_DETAILS WHERE AGE <= 50\n",
    "        \"\"\"        \n",
    "        cur.execute(sql_select)\n",
    "        rows = cur.fetchall()\n",
    "        print('All fetched records : ')\n",
    "        print(rows)\n",
    "        for i, row in enumerate(rows):\n",
    "            print(i, ' : ', row)\n",
    "    except Exception as err:        \n",
    "        print('Exception occured while selecting the data : ',err)\n",
    "    else:        \n",
    "        print('Select Executed')\n",
    "    finally:\n",
    "        cur.close()\n",
    "        print('Cursor Closed')\n",
    "finally:\n",
    "        conn.close()\n",
    "        print('Connection Closed')"
   ]
  },
  {
   "cell_type": "markdown",
   "metadata": {},
   "source": [
    "#### Select Data with : fetchone()"
   ]
  },
  {
   "cell_type": "code",
   "execution_count": 25,
   "metadata": {},
   "outputs": [
    {
     "name": "stdout",
     "output_type": "stream",
     "text": [
      "Connection established, version  12.1.0.2.0\n",
      "Fetchone() : \n",
      "('Sundar', 'Pichai', 'Google', 47)\n",
      "Fetchone() : \n",
      "('Mark', 'Zuck', 'Factbook', 35)\n",
      "Fetchone() : \n",
      "None\n",
      "Fetchone() : \n",
      "None\n",
      "Select Executed\n",
      "Cursor Closed\n",
      "Connection Closed\n"
     ]
    }
   ],
   "source": [
    "#Insert data, Using executemany\n",
    "\n",
    "#import appropriate module\n",
    "import cx_Oracle\n",
    "\n",
    "import db_config\n",
    "\n",
    "#create a connection\n",
    "try:\n",
    "    conn = cx_Oracle.connect(db_config.user+'/'+db_config.pwd+'@'+db_config.db)    \n",
    "except Exception as err:\n",
    "    print('Exception occured while connecting to the database : ',err)\n",
    "else:\n",
    "    try:\n",
    "        print('Connection established, version ',conn.version)\n",
    "        #create a cursor\n",
    "        cur = conn.cursor()\n",
    "        sql_select  = \"\"\"\n",
    "        SELECT * FROM CEO_DETAILS WHERE AGE <= 50\n",
    "        \"\"\"        \n",
    "        cur.execute(sql_select)\n",
    "        rows = cur.fetchone()\n",
    "        print('Fetchone() : ')\n",
    "        print(rows)\n",
    "        rows = cur.fetchone()\n",
    "        print('Fetchone() : ')\n",
    "        print(rows)      \n",
    "        rows = cur.fetchone()\n",
    "        print('Fetchone() : ')\n",
    "        print(rows)\n",
    "        rows = cur.fetchone()\n",
    "        print('Fetchone() : ')\n",
    "        print(rows)\n",
    "    except Exception as err:        \n",
    "        print('Exception occured while selecting the data : ',err)\n",
    "    else:        \n",
    "        print('Select Executed')\n",
    "    finally:\n",
    "        cur.close()\n",
    "        print('Cursor Closed')\n",
    "finally:\n",
    "        conn.close()\n",
    "        print('Connection Closed')"
   ]
  },
  {
   "cell_type": "markdown",
   "metadata": {},
   "source": [
    "#### Select data with fetchmany()"
   ]
  },
  {
   "cell_type": "code",
   "execution_count": 35,
   "metadata": {},
   "outputs": [
    {
     "name": "stdout",
     "output_type": "stream",
     "text": [
      "Connection established, version  12.1.0.2.0\n",
      "Fetchmany() : \n",
      "[('Sundar', 'Pichai', 'Google', 47), ('Mark', 'Zuck', 'Factbook', 35)]\n",
      "Select Executed\n",
      "Cursor Closed\n",
      "Connection Closed\n"
     ]
    }
   ],
   "source": [
    "#Insert data, Using executemany\n",
    "\n",
    "#import appropriate module\n",
    "import cx_Oracle\n",
    "\n",
    "import db_config\n",
    "\n",
    "#create a connection\n",
    "try:\n",
    "    conn = cx_Oracle.connect(db_config.user+'/'+db_config.pwd+'@'+db_config.db)    \n",
    "except Exception as err:\n",
    "    print('Exception occured while connecting to the database : ',err)\n",
    "else:\n",
    "    try:\n",
    "        print('Connection established, version ',conn.version)\n",
    "        #create a cursor\n",
    "        cur = conn.cursor()\n",
    "        sql_select  = \"\"\"\n",
    "        SELECT * FROM CEO_DETAILS WHERE AGE <= 50\n",
    "        \"\"\"        \n",
    "        cur.execute(sql_select)\n",
    "        rows = cur.fetchmany(3)\n",
    "        print('Fetchmany() : ')\n",
    "        print(rows)\n",
    "    except Exception as err:        \n",
    "        print('Exception occured while selecting the data : ',err)\n",
    "    else:        \n",
    "        print('Select Executed')\n",
    "    finally:\n",
    "        cur.close()\n",
    "        print('Cursor Closed')\n",
    "finally:\n",
    "        conn.close()\n",
    "        print('Connection Closed')"
   ]
  },
  {
   "cell_type": "markdown",
   "metadata": {},
   "source": [
    "#### SELECT with Bind Variables"
   ]
  },
  {
   "cell_type": "code",
   "execution_count": 36,
   "metadata": {},
   "outputs": [
    {
     "name": "stdout",
     "output_type": "stream",
     "text": [
      "Connection established, version  12.1.0.2.0\n",
      "Fetchmany() : \n",
      "[('Sundar', 'Pichai', 'Google', 47)]\n",
      "Select Executed\n",
      "Cursor Closed\n",
      "Connection Closed\n"
     ]
    }
   ],
   "source": [
    "#Insert data, Using executemany\n",
    "\n",
    "#import appropriate module\n",
    "import cx_Oracle\n",
    "\n",
    "import db_config\n",
    "\n",
    "#create a connection\n",
    "try:\n",
    "    conn = cx_Oracle.connect(db_config.user+'/'+db_config.pwd+'@'+db_config.db)    \n",
    "except Exception as err:\n",
    "    print('Exception occured while connecting to the database : ',err)\n",
    "else:\n",
    "    try:\n",
    "        print('Connection established, version ',conn.version)\n",
    "        #create a cursor\n",
    "        cur = conn.cursor()\n",
    "        sql_select  = \"\"\"\n",
    "        SELECT * FROM CEO_DETAILS WHERE AGE <= :age AND ORG = :company\n",
    "        \"\"\"        \n",
    "        cur.execute(sql_select, {'age':50, 'company':'Google'})\n",
    "        rows = cur.fetchmany(3)\n",
    "        print('Fetchmany() : ')\n",
    "        print(rows)\n",
    "    except Exception as err:        \n",
    "        print('Exception occured while selecting the data : ',err)\n",
    "    else:        \n",
    "        print('Select Executed')\n",
    "    finally:\n",
    "        cur.close()\n",
    "        print('Cursor Closed')\n",
    "finally:\n",
    "        conn.close()\n",
    "        print('Connection Closed')"
   ]
  },
  {
   "cell_type": "markdown",
   "metadata": {},
   "source": [
    "### Execute Procedure"
   ]
  },
  {
   "cell_type": "code",
   "execution_count": 38,
   "metadata": {},
   "outputs": [
    {
     "name": "stdout",
     "output_type": "stream",
     "text": [
      "Connection established, version  12.1.0.2.0\n",
      "Select Executed\n",
      "Cursor Closed\n",
      "Connection Closed\n"
     ]
    }
   ],
   "source": [
    "#Insert data, Using executemany\n",
    "\n",
    "#import appropriate module\n",
    "import cx_Oracle\n",
    "\n",
    "import db_config\n",
    "\n",
    "#create a connection\n",
    "try:\n",
    "    conn = cx_Oracle.connect(db_config.user+'/'+db_config.pwd+'@'+db_config.db)    \n",
    "except Exception as err:\n",
    "    print('Exception occured while connecting to the database : ',err)\n",
    "else:\n",
    "    try:\n",
    "        print('Connection established, version ',conn.version)\n",
    "        #create a cursor\n",
    "        cur = conn.cursor()              \n",
    "        cur.callproc('INS_CEO_DETAILS',('Marc','Randolph','Netflix',61))        \n",
    "    except Exception as err:        \n",
    "        print('Exception occured while executing the procedure : ',err)\n",
    "    else:        \n",
    "        print('Procedure Executed')\n",
    "    finally:\n",
    "        cur.close()\n",
    "        print('Cursor Closed')\n",
    "finally:\n",
    "        conn.close()\n",
    "        print('Connection Closed')"
   ]
  },
  {
   "cell_type": "code",
   "execution_count": 40,
   "metadata": {},
   "outputs": [
    {
     "name": "stdout",
     "output_type": "stream",
     "text": [
      "Connection established, version  12.1.0.2.0\n",
      "Procedure Executed\n",
      "Cursor Closed\n",
      "Connection Closed\n"
     ]
    }
   ],
   "source": [
    "#Insert data, Using executemany\n",
    "\n",
    "#import appropriate module\n",
    "import cx_Oracle\n",
    "\n",
    "import db_config\n",
    "\n",
    "#create a connection\n",
    "try:\n",
    "    conn = cx_Oracle.connect(db_config.user+'/'+db_config.pwd+'@'+db_config.db)    \n",
    "except Exception as err:\n",
    "    print('Exception occured while connecting to the database : ',err)\n",
    "else:\n",
    "    try:\n",
    "        print('Connection established, version ',conn.version)\n",
    "        #create a cursor\n",
    "        cur = conn.cursor()              \n",
    "        data = ['Reed','Hastings','Netflix',59]\n",
    "        cur.callproc('INS_CEO_DETAILS',data)        \n",
    "    except Exception as err:        \n",
    "        print('Exception occured while executing the procedure : ',err)\n",
    "    else:        \n",
    "        print('Procedure Executed')\n",
    "    finally:\n",
    "        cur.close()\n",
    "        print('Cursor Closed')\n",
    "finally:\n",
    "        conn.close()\n",
    "        print('Connection Closed')"
   ]
  },
  {
   "cell_type": "markdown",
   "metadata": {},
   "source": [
    "#### execute function\n",
    "https://developer.oracle.com/dsl/prez-python-queries.html"
   ]
  },
  {
   "cell_type": "code",
   "execution_count": 44,
   "metadata": {},
   "outputs": [
    {
     "name": "stdout",
     "output_type": "stream",
     "text": [
      "Connection established, version  12.1.0.2.0\n",
      "Result :  21\n",
      "Function Executed.\n",
      "Cursor Closed\n",
      "Connection Closed\n"
     ]
    }
   ],
   "source": [
    "#Insert data, Using executemany\n",
    "\n",
    "#import appropriate module\n",
    "import cx_Oracle\n",
    "\n",
    "import db_config\n",
    "\n",
    "#create a connection\n",
    "try:\n",
    "    conn = cx_Oracle.connect(db_config.user+'/'+db_config.pwd+'@'+db_config.db)    \n",
    "except Exception as err:\n",
    "    print('Exception occured while connecting to the database : ',err)\n",
    "else:\n",
    "    try:\n",
    "        print('Connection established, version ',conn.version)\n",
    "        #create a cursor\n",
    "        cur = conn.cursor()              \n",
    "        data = [10, 11]\n",
    "        result = cur.callfunc('ADD_INT',int, data)        \n",
    "    except Exception as err:        \n",
    "        print('Exception occured while executing the function : ',err)\n",
    "    else:        \n",
    "        print('Result : ', result)\n",
    "    finally:\n",
    "        print('Function Executed.')\n",
    "        cur.close()\n",
    "        print('Cursor Closed')\n",
    "finally:\n",
    "        conn.close()\n",
    "        print('Connection Closed')"
   ]
  },
  {
   "cell_type": "code",
   "execution_count": null,
   "metadata": {},
   "outputs": [],
   "source": []
  }
 ],
 "metadata": {
  "kernelspec": {
   "display_name": "Python 3",
   "language": "python",
   "name": "python3"
  },
  "language_info": {
   "codemirror_mode": {
    "name": "ipython",
    "version": 3
   },
   "file_extension": ".py",
   "mimetype": "text/x-python",
   "name": "python",
   "nbconvert_exporter": "python",
   "pygments_lexer": "ipython3",
   "version": "3.6.5"
  }
 },
 "nbformat": 4,
 "nbformat_minor": 2
}
