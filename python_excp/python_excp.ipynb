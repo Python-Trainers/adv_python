{
 "cells": [
  {
   "cell_type": "markdown",
   "metadata": {},
   "source": [
    "# Exceptions and Exception Handling"
   ]
  },
  {
   "cell_type": "markdown",
   "metadata": {},
   "source": [
    "Exception - A runtime Error\n",
    "An event, which occurs during the execution of the program and disrupts the normal flow of the program\n",
    "\n",
    "Exception Handling - Process of responding to the occurance of the exceptional conditions, requiring special processing - oftem chaning the normal flow of the processing\n",
    "\n",
    "Built-In Exception : https://docs.python.org/3/library/exceptions.html#bltin-exceptions"
   ]
  },
  {
   "cell_type": "code",
   "execution_count": 2,
   "metadata": {},
   "outputs": [
    {
     "name": "stdout",
     "output_type": "stream",
     "text": [
      "result :  5.0\n"
     ]
    }
   ],
   "source": [
    "#normal flow\n",
    "\n",
    "def divide(num1, num2):\n",
    "    return num1 / num2\n",
    "\n",
    "a = 10\n",
    "b = 2\n",
    "result_div = divide(a, b)\n",
    "print('result : ',result_div)"
   ]
  },
  {
   "cell_type": "code",
   "execution_count": 59,
   "metadata": {},
   "outputs": [
    {
     "ename": "ZeroDivisionError",
     "evalue": "division by zero",
     "output_type": "error",
     "traceback": [
      "\u001b[1;31m---------------------------------------------------------------------------\u001b[0m",
      "\u001b[1;31mZeroDivisionError\u001b[0m                         Traceback (most recent call last)",
      "\u001b[1;32m<ipython-input-59-838c1ddff13a>\u001b[0m in \u001b[0;36m<module>\u001b[1;34m()\u001b[0m\n\u001b[0;32m      1\u001b[0m \u001b[0ma\u001b[0m \u001b[1;33m=\u001b[0m \u001b[1;36m10\u001b[0m\u001b[1;33m\u001b[0m\u001b[0m\n\u001b[0;32m      2\u001b[0m \u001b[0mb\u001b[0m \u001b[1;33m=\u001b[0m \u001b[1;36m0\u001b[0m\u001b[1;33m\u001b[0m\u001b[0m\n\u001b[1;32m----> 3\u001b[1;33m \u001b[0mresult_div\u001b[0m \u001b[1;33m=\u001b[0m \u001b[0mdivide\u001b[0m\u001b[1;33m(\u001b[0m\u001b[0ma\u001b[0m\u001b[1;33m,\u001b[0m \u001b[0mb\u001b[0m\u001b[1;33m)\u001b[0m\u001b[1;33m\u001b[0m\u001b[0m\n\u001b[0m\u001b[0;32m      4\u001b[0m \u001b[0mprint\u001b[0m\u001b[1;33m(\u001b[0m\u001b[1;34m'result : '\u001b[0m\u001b[1;33m,\u001b[0m\u001b[0mresult_div\u001b[0m\u001b[1;33m)\u001b[0m\u001b[1;33m\u001b[0m\u001b[0m\n\u001b[0;32m      5\u001b[0m \u001b[0mprint\u001b[0m\u001b[1;33m(\u001b[0m\u001b[1;34m'The End'\u001b[0m\u001b[1;33m)\u001b[0m\u001b[1;33m\u001b[0m\u001b[0m\n",
      "\u001b[1;32m<ipython-input-58-0421cb96de1e>\u001b[0m in \u001b[0;36mdivide\u001b[1;34m(num1, num2)\u001b[0m\n\u001b[0;32m      2\u001b[0m \u001b[1;33m\u001b[0m\u001b[0m\n\u001b[0;32m      3\u001b[0m \u001b[1;32mdef\u001b[0m \u001b[0mdivide\u001b[0m\u001b[1;33m(\u001b[0m\u001b[0mnum1\u001b[0m\u001b[1;33m,\u001b[0m \u001b[0mnum2\u001b[0m\u001b[1;33m)\u001b[0m\u001b[1;33m:\u001b[0m\u001b[1;33m\u001b[0m\u001b[0m\n\u001b[1;32m----> 4\u001b[1;33m     \u001b[1;32mreturn\u001b[0m \u001b[0mnum1\u001b[0m \u001b[1;33m/\u001b[0m \u001b[0mnum2\u001b[0m\u001b[1;33m\u001b[0m\u001b[0m\n\u001b[0m\u001b[0;32m      5\u001b[0m \u001b[1;33m\u001b[0m\u001b[0m\n\u001b[0;32m      6\u001b[0m \u001b[0ma\u001b[0m \u001b[1;33m=\u001b[0m \u001b[1;36m10\u001b[0m\u001b[1;33m\u001b[0m\u001b[0m\n",
      "\u001b[1;31mZeroDivisionError\u001b[0m: division by zero"
     ]
    }
   ],
   "source": [
    "a = 10\n",
    "b = 0\n",
    "result_div = divide(a, b)\n",
    "print('result : ',result_div)\n",
    "print('The End')"
   ]
  },
  {
   "cell_type": "markdown",
   "metadata": {},
   "source": [
    "# try-except-else-finally"
   ]
  },
  {
   "cell_type": "markdown",
   "metadata": {},
   "source": [
    "Important Terms\n",
    "\n",
    "try: contains code segment, which may raise an exception\n",
    "\n",
    "except: segment to handle the exception from the try block, multiple except blocks are allowed, exceptions flow from top to bottom, general except block should be the last one in the hierarchy (optional in one case)\n",
    "\n",
    "else: executes when no exception exists, else block should always follow an except block (optional)\n",
    "\n",
    "finally: no matter what happens above, this code block is executed (optional)"
   ]
  },
  {
   "cell_type": "code",
   "execution_count": 4,
   "metadata": {},
   "outputs": [
    {
     "name": "stdout",
     "output_type": "stream",
     "text": [
      "In try block\n",
      "In else block\n",
      "In finally block\n"
     ]
    }
   ],
   "source": [
    "try:\n",
    "    print('In try block')\n",
    "except:\n",
    "    print('In Exception block')\n",
    "else:\n",
    "    print('In else block')\n",
    "finally:\n",
    "    print('In finally block')"
   ]
  },
  {
   "cell_type": "code",
   "execution_count": 5,
   "metadata": {},
   "outputs": [
    {
     "name": "stdout",
     "output_type": "stream",
     "text": [
      "In try block\n",
      "In Exception block\n",
      "In finally block\n"
     ]
    }
   ],
   "source": [
    "#execution with an error\n",
    "#using raise\n",
    "\n",
    "try:\n",
    "    print('In try block')\n",
    "    raise\n",
    "except:\n",
    "    print('In Exception block')    \n",
    "else:\n",
    "    print('In else block')\n",
    "finally:\n",
    "    print('In finally block')"
   ]
  },
  {
   "cell_type": "markdown",
   "metadata": {},
   "source": [
    "# Available Combinations"
   ]
  },
  {
   "cell_type": "code",
   "execution_count": 11,
   "metadata": {},
   "outputs": [
    {
     "name": "stdout",
     "output_type": "stream",
     "text": [
      "In the try block\n"
     ]
    }
   ],
   "source": [
    "#available combinatioins\n",
    "#try-except\n",
    "try:\n",
    "    print('In the try block')\n",
    "except:\n",
    "    print('In the 1st except block')"
   ]
  },
  {
   "cell_type": "code",
   "execution_count": 25,
   "metadata": {},
   "outputs": [
    {
     "name": "stdout",
     "output_type": "stream",
     "text": [
      "In the try block\n",
      "In type Error\n"
     ]
    }
   ],
   "source": [
    "#available combinatioins\n",
    "#try-except-except\n",
    "try:\n",
    "    print('In the try block')\n",
    "    raise TypeError\n",
    "except TypeError:\n",
    "    print('In type Error') \n",
    "except:\n",
    "    print('In the 1st except block')   "
   ]
  },
  {
   "cell_type": "code",
   "execution_count": 26,
   "metadata": {},
   "outputs": [
    {
     "name": "stdout",
     "output_type": "stream",
     "text": [
      "In the try block\n",
      "Else block\n"
     ]
    }
   ],
   "source": [
    "#available combinatioins\n",
    "#try-except-else\n",
    "try:\n",
    "    print('In the try block')\n",
    "except:\n",
    "    print('In the 1st except block')\n",
    "else:\n",
    "    print('Else block')"
   ]
  },
  {
   "cell_type": "code",
   "execution_count": 14,
   "metadata": {},
   "outputs": [
    {
     "name": "stdout",
     "output_type": "stream",
     "text": [
      "In the try block\n",
      "Finally block\n"
     ]
    }
   ],
   "source": [
    "#available combinatioins\n",
    "#try-except-else\n",
    "try:\n",
    "    print('In the try block')\n",
    "except:\n",
    "    print('In the 1st except block')\n",
    "finally:\n",
    "    print('Finally block')"
   ]
  },
  {
   "cell_type": "code",
   "execution_count": 29,
   "metadata": {},
   "outputs": [
    {
     "name": "stdout",
     "output_type": "stream",
     "text": [
      "In try block\n",
      "In finally block\n"
     ]
    }
   ],
   "source": [
    "#works fine\n",
    "try:\n",
    "    print('In try block')\n",
    "finally:\n",
    "    print('In finally block')"
   ]
  },
  {
   "cell_type": "markdown",
   "metadata": {},
   "source": [
    "# Invalid combinations"
   ]
  },
  {
   "cell_type": "code",
   "execution_count": 16,
   "metadata": {},
   "outputs": [
    {
     "ename": "SyntaxError",
     "evalue": "unexpected EOF while parsing (<ipython-input-16-10cb2a765d56>, line 4)",
     "output_type": "error",
     "traceback": [
      "\u001b[1;36m  File \u001b[1;32m\"<ipython-input-16-10cb2a765d56>\"\u001b[1;36m, line \u001b[1;32m4\u001b[0m\n\u001b[1;33m    print('In the try block')\u001b[0m\n\u001b[1;37m                             ^\u001b[0m\n\u001b[1;31mSyntaxError\u001b[0m\u001b[1;31m:\u001b[0m unexpected EOF while parsing\n"
     ]
    }
   ],
   "source": [
    "#Invalid combinatioins\n",
    "#try-except-else\n",
    "try:\n",
    "    print('In the try block')"
   ]
  },
  {
   "cell_type": "code",
   "execution_count": 21,
   "metadata": {},
   "outputs": [
    {
     "ename": "SyntaxError",
     "evalue": "invalid syntax (<ipython-input-21-df989d942c07>, line 3)",
     "output_type": "error",
     "traceback": [
      "\u001b[1;36m  File \u001b[1;32m\"<ipython-input-21-df989d942c07>\"\u001b[1;36m, line \u001b[1;32m3\u001b[0m\n\u001b[1;33m    else:\u001b[0m\n\u001b[1;37m       ^\u001b[0m\n\u001b[1;31mSyntaxError\u001b[0m\u001b[1;31m:\u001b[0m invalid syntax\n"
     ]
    }
   ],
   "source": [
    "#need an except block for else clause\n",
    "try:\n",
    "    print('In try block')\n",
    "else:\n",
    "    print('In else block')"
   ]
  },
  {
   "cell_type": "code",
   "execution_count": 22,
   "metadata": {},
   "outputs": [
    {
     "ename": "SyntaxError",
     "evalue": "invalid syntax (<ipython-input-22-db6ffa8a9fd5>, line 7)",
     "output_type": "error",
     "traceback": [
      "\u001b[1;36m  File \u001b[1;32m\"<ipython-input-22-db6ffa8a9fd5>\"\u001b[1;36m, line \u001b[1;32m7\u001b[0m\n\u001b[1;33m    else:\u001b[0m\n\u001b[1;37m       ^\u001b[0m\n\u001b[1;31mSyntaxError\u001b[0m\u001b[1;31m:\u001b[0m invalid syntax\n"
     ]
    }
   ],
   "source": [
    "#multiple else are not allowed\n",
    "try:\n",
    "    print('In try block')\n",
    "except:\n",
    "    print('In except block')\n",
    "else:\n",
    "    print('In else block')\n",
    "else:\n",
    "    print('In else block')"
   ]
  },
  {
   "cell_type": "code",
   "execution_count": 30,
   "metadata": {},
   "outputs": [
    {
     "ename": "SyntaxError",
     "evalue": "invalid syntax (<ipython-input-30-0537b0da3986>, line 8)",
     "output_type": "error",
     "traceback": [
      "\u001b[1;36m  File \u001b[1;32m\"<ipython-input-30-0537b0da3986>\"\u001b[1;36m, line \u001b[1;32m8\u001b[0m\n\u001b[1;33m    finally:\u001b[0m\n\u001b[1;37m          ^\u001b[0m\n\u001b[1;31mSyntaxError\u001b[0m\u001b[1;31m:\u001b[0m invalid syntax\n"
     ]
    }
   ],
   "source": [
    "#multiple finally are not allowed\n",
    "try:\n",
    "    print('In try block')\n",
    "except:\n",
    "    print('In except block')\n",
    "finally:\n",
    "    print('In finally block')\n",
    "finally:\n",
    "    print('IN finally block again')"
   ]
  },
  {
   "cell_type": "code",
   "execution_count": 32,
   "metadata": {},
   "outputs": [
    {
     "ename": "SyntaxError",
     "evalue": "invalid syntax (<ipython-input-32-ba9630e58cb4>, line 4)",
     "output_type": "error",
     "traceback": [
      "\u001b[1;36m  File \u001b[1;32m\"<ipython-input-32-ba9630e58cb4>\"\u001b[1;36m, line \u001b[1;32m4\u001b[0m\n\u001b[1;33m    try:\u001b[0m\n\u001b[1;37m      ^\u001b[0m\n\u001b[1;31mSyntaxError\u001b[0m\u001b[1;31m:\u001b[0m invalid syntax\n"
     ]
    }
   ],
   "source": [
    "#multiple try are not allowed\n",
    "try:\n",
    "    print('In try block')\n",
    "try:\n",
    "    print('In try block')\n",
    "except:\n",
    "    print('In except block')"
   ]
  },
  {
   "cell_type": "markdown",
   "metadata": {},
   "source": [
    "# Examples of Exception handling"
   ]
  },
  {
   "cell_type": "code",
   "execution_count": 67,
   "metadata": {},
   "outputs": [
    {
     "name": "stdout",
     "output_type": "stream",
     "text": [
      "Executing try block\n",
      "Some Exception got raised\n",
      "End of execution\n"
     ]
    }
   ],
   "source": [
    "#calling the divide function in the try block\n",
    "#execution with an error, ZeroDivisionError\n",
    "\n",
    "try:\n",
    "    print('Executing try block')\n",
    "    num1 = 10\n",
    "    num2 = 0\n",
    "    result = divide(num1, num2)\n",
    "except:\n",
    "    print('Some Exception got raised')    \n",
    "else:\n",
    "    print('result = ', result)\n",
    "finally:\n",
    "    print('End of execution')"
   ]
  },
  {
   "cell_type": "code",
   "execution_count": 69,
   "metadata": {},
   "outputs": [
    {
     "name": "stdout",
     "output_type": "stream",
     "text": [
      "In try block\n",
      "Division by 0 is invalid\n",
      "End of execution\n"
     ]
    }
   ],
   "source": [
    "#calling the divide function in the try block\n",
    "#execution with an error, Specify ZeroDivisionError\n",
    "\n",
    "try:\n",
    "    print('In try block')\n",
    "    num1 = 10\n",
    "    num2 = 0\n",
    "    divide(num1, num2)\n",
    "except ZeroDivisionError:\n",
    "    print('Division by 0 is invalid') \n",
    "except:\n",
    "    print('Some exception occurred')\n",
    "else:\n",
    "    print('result = ', result)\n",
    "finally:\n",
    "    print('End of execution')"
   ]
  },
  {
   "cell_type": "code",
   "execution_count": 10,
   "metadata": {},
   "outputs": [
    {
     "name": "stdout",
     "output_type": "stream",
     "text": [
      "In try block\n",
      "Insert numerator 10\n",
      "Insert denominator 0\n",
      "Please divide with nonzero\n",
      "In finally block\n"
     ]
    }
   ],
   "source": [
    "#calling the divide function in the try block\n",
    "#getting a type error\n",
    "\n",
    "try:\n",
    "    print('In try block')\n",
    "    num1 = input('Insert numerator ')\n",
    "    num2 = input('Insert denominator ')\n",
    "    result = divide(num1, num2)\n",
    "except ZeroDivisionError:\n",
    "    print('Please divide with nonzero integer') \n",
    "except:\n",
    "    print('Some exception occurred')\n",
    "else:\n",
    "    print('In else block')\n",
    "    print('Result is ', result)\n",
    "finally:\n",
    "    print('In finally block')"
   ]
  },
  {
   "cell_type": "code",
   "execution_count": 11,
   "metadata": {},
   "outputs": [
    {
     "name": "stdout",
     "output_type": "stream",
     "text": [
      "In try block\n",
      "Insert numerator 10\n",
      "Insert denominator 20\n",
      "Only Integers are allowed\n",
      "In finally block\n"
     ]
    }
   ],
   "source": [
    "#handling multiple exceptions\n",
    "\n",
    "try:\n",
    "    print('In try block')\n",
    "    num1 = input('Insert numerator ')\n",
    "    num2 = input('Insert denominator ')\n",
    "    result = divide(num1, num2)\n",
    "except ZeroDivisionError:\n",
    "    print('Dividing by Zero is invalid')\n",
    "except TypeError:\n",
    "    print('Only Integers are allowed')\n",
    "except:\n",
    "    print('Some exception occurred')\n",
    "else:\n",
    "    print('In else block')\n",
    "    print('Result is ', result)\n",
    "finally:\n",
    "    print('In finally block')"
   ]
  },
  {
   "cell_type": "code",
   "execution_count": 15,
   "metadata": {},
   "outputs": [
    {
     "name": "stdout",
     "output_type": "stream",
     "text": [
      "In try block\n",
      "Insert numerator 10\n",
      "Insert denominator 0\n",
      "Numerator and Denominator should be integers and NonZero msg: division by zero\n",
      "In finally block\n"
     ]
    }
   ],
   "source": [
    "#handling multiple exceptions\n",
    "\n",
    "try:\n",
    "    print('In try block')\n",
    "    num1 = input('Insert numerator ')\n",
    "    num2 = input('Insert denominator ')\n",
    "    result = divide(num1, num2)\n",
    "except (ZeroDivisionError, TypeError) as err:\n",
    "    print('Numerator and Denominator should be integers and NonZero msg:', err)\n",
    "except:\n",
    "    print('Some exception occurred')\n",
    "else:\n",
    "    print('In else block')\n",
    "    print('Result is ', result)\n",
    "finally:\n",
    "    print('In finally block')"
   ]
  },
  {
   "cell_type": "code",
   "execution_count": 16,
   "metadata": {},
   "outputs": [
    {
     "name": "stdout",
     "output_type": "stream",
     "text": [
      "In try block\n",
      "In Exception block\n",
      "Error Message :  Traceback (most recent call last):\n",
      "  File \"<ipython-input-16-a57091bf4d10>\", line 10, in <module>\n",
      "    divide(num1, num2)\n",
      "  File \"<ipython-input-2-0421cb96de1e>\", line 4, in divide\n",
      "    return num1 / num2\n",
      "ZeroDivisionError: division by zero\n",
      "\n",
      "In finally block\n"
     ]
    }
   ],
   "source": [
    "#catching the exception\n",
    "#calling the divide function in the try block\n",
    "#execution with an error, ZeroDivisionError\n",
    "import traceback\n",
    "\n",
    "try:\n",
    "    print('In try block')\n",
    "    num1 = 10\n",
    "    num2 = 0\n",
    "    divide(num1, num2)\n",
    "except ZeroDivisionError as err:\n",
    "    print('In Exception block')    \n",
    "    print('Error Message : ',traceback.format_exc())\n",
    "else:\n",
    "    print('In else block')\n",
    "finally:\n",
    "    print('In finally block')"
   ]
  },
  {
   "cell_type": "markdown",
   "metadata": {},
   "source": [
    "# Raise"
   ]
  },
  {
   "cell_type": "code",
   "execution_count": 30,
   "metadata": {},
   "outputs": [
    {
     "name": "stdout",
     "output_type": "stream",
     "text": [
      "In try block\n",
      "In the general exception block\n",
      "In finally block\n"
     ]
    }
   ],
   "source": [
    "#Raising a Main exception\n",
    "\n",
    "try:\n",
    "    print('In try block')\n",
    "    num1 = 10\n",
    "    num2 = 0\n",
    "    if num2 == 0:\n",
    "        raise\n",
    "    else:\n",
    "        divide(num1, num2)\n",
    "except ZeroDivisionError:\n",
    "    print('In ZeroDivisionError Exception block')    \n",
    "except Exception:\n",
    "    print('In the general exception block')\n",
    "else:\n",
    "    print('In else block')\n",
    "finally:\n",
    "    print('In finally block')"
   ]
  },
  {
   "cell_type": "code",
   "execution_count": 32,
   "metadata": {},
   "outputs": [
    {
     "name": "stdout",
     "output_type": "stream",
     "text": [
      "In try block\n",
      "In ZeroDivisionError Exception block\n",
      "In finally block\n"
     ]
    },
    {
     "ename": "ZeroDivisionError",
     "evalue": "",
     "output_type": "error",
     "traceback": [
      "\u001b[1;31m---------------------------------------------------------------------------\u001b[0m",
      "\u001b[1;31mZeroDivisionError\u001b[0m                         Traceback (most recent call last)",
      "\u001b[1;32m<ipython-input-32-d526dc35d458>\u001b[0m in \u001b[0;36m<module>\u001b[1;34m()\u001b[0m\n\u001b[0;32m      6\u001b[0m     \u001b[0mnum2\u001b[0m \u001b[1;33m=\u001b[0m \u001b[1;36m0\u001b[0m\u001b[1;33m\u001b[0m\u001b[0m\n\u001b[0;32m      7\u001b[0m     \u001b[1;32mif\u001b[0m \u001b[0mnum2\u001b[0m \u001b[1;33m==\u001b[0m \u001b[1;36m0\u001b[0m\u001b[1;33m:\u001b[0m\u001b[1;33m\u001b[0m\u001b[0m\n\u001b[1;32m----> 8\u001b[1;33m         \u001b[1;32mraise\u001b[0m \u001b[0mZeroDivisionError\u001b[0m\u001b[1;33m\u001b[0m\u001b[0m\n\u001b[0m\u001b[0;32m      9\u001b[0m     \u001b[1;32melse\u001b[0m\u001b[1;33m:\u001b[0m\u001b[1;33m\u001b[0m\u001b[0m\n\u001b[0;32m     10\u001b[0m         \u001b[0mdivide\u001b[0m\u001b[1;33m(\u001b[0m\u001b[0mnum1\u001b[0m\u001b[1;33m,\u001b[0m \u001b[0mnum2\u001b[0m\u001b[1;33m)\u001b[0m\u001b[1;33m\u001b[0m\u001b[0m\n",
      "\u001b[1;31mZeroDivisionError\u001b[0m: "
     ]
    }
   ],
   "source": [
    "#Raising a specific exception, and re raising the same\n",
    "\n",
    "try:\n",
    "    print('In try block')\n",
    "    num1 = 10\n",
    "    num2 = 0\n",
    "    if num2 == 0:\n",
    "        raise ZeroDivisionError\n",
    "    else:\n",
    "        divide(num1, num2)\n",
    "except ZeroDivisionError:\n",
    "    print('In ZeroDivisionError Exception block')  \n",
    "    #raise\n",
    "except Exception:\n",
    "    print('In the general exception block')\n",
    "else:\n",
    "    print('In else block')\n",
    "finally:\n",
    "    print('In finally block')"
   ]
  },
  {
   "cell_type": "code",
   "execution_count": 27,
   "metadata": {},
   "outputs": [
    {
     "name": "stdout",
     "output_type": "stream",
     "text": [
      "In try block\n",
      "In ZeroDivisionError Exception block\n",
      "Error Message :  Exception Message\n",
      "In finally block\n"
     ]
    }
   ],
   "source": [
    "#Raising a standard exception, with a message\n",
    "\n",
    "try:\n",
    "    print('In try block')\n",
    "    num1 = 10\n",
    "    num2 = 0\n",
    "    if num2 == 0:\n",
    "        raise ZeroDivisionError('Exception Message')\n",
    "    else:\n",
    "        divide(num1, num2)\n",
    "except ZeroDivisionError as zde:\n",
    "    print('In ZeroDivisionError Exception block')    \n",
    "    print('Error Message : ',zde)\n",
    "except Exception as err:\n",
    "    print('In the general exception block')\n",
    "    print('Error message ',err)\n",
    "else:\n",
    "    print('In else block')\n",
    "finally:\n",
    "    print('In finally block')"
   ]
  },
  {
   "cell_type": "code",
   "execution_count": 28,
   "metadata": {},
   "outputs": [
    {
     "name": "stdout",
     "output_type": "stream",
     "text": [
      "In try block\n",
      "In ZeroDivisionError Exception block\n",
      "Error Message :  \n",
      "In finally block\n"
     ]
    }
   ],
   "source": [
    "#Raising a standard exception, without a message\n",
    "\n",
    "try:\n",
    "    print('In try block')\n",
    "    num1 = 10\n",
    "    num2 = 0\n",
    "    if num2 == 0:\n",
    "        raise ZeroDivisionError()\n",
    "    else:\n",
    "        divide(num1, num2)\n",
    "except ZeroDivisionError as zde:\n",
    "    print('In ZeroDivisionError Exception block')    \n",
    "    print('Error Message : ',zde)\n",
    "except Exception as err:\n",
    "    print('In the general exception block')\n",
    "    print('Error message ',err)\n",
    "else:\n",
    "    print('In else block')\n",
    "finally:\n",
    "    print('In finally block')"
   ]
  },
  {
   "cell_type": "markdown",
   "metadata": {},
   "source": [
    "# User-defined Exceptions"
   ]
  },
  {
   "cell_type": "code",
   "execution_count": 40,
   "metadata": {},
   "outputs": [
    {
     "name": "stdout",
     "output_type": "stream",
     "text": [
      "MyError Raised :  Some Error Message\n"
     ]
    }
   ],
   "source": [
    "#All user-defined exceptions should also be derived from Exception class.\n",
    "\n",
    "class MyError(Exception):\n",
    "    def __init__ (self, arg):\n",
    "        self.arg = arg\n",
    "        \n",
    "try:\n",
    "    raise MyError('Some Error Message')\n",
    "except MyError as me:\n",
    "    print('MyError Raised : ',me)\n",
    "        "
   ]
  }
 ],
 "metadata": {
  "kernelspec": {
   "display_name": "Python 3",
   "language": "python",
   "name": "python3"
  },
  "language_info": {
   "codemirror_mode": {
    "name": "ipython",
    "version": 3
   },
   "file_extension": ".py",
   "mimetype": "text/x-python",
   "name": "python",
   "nbconvert_exporter": "python",
   "pygments_lexer": "ipython3",
   "version": "3.7.0"
  }
 },
 "nbformat": 4,
 "nbformat_minor": 4
}
