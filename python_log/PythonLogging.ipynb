{
 "cells": [
  {
   "cell_type": "code",
   "execution_count": 3,
   "metadata": {},
   "outputs": [
    {
     "name": "stdout",
     "output_type": "stream",
     "text": [
      "Add : 10 + 2  = 12\n",
      "Add : 10 - 2  = 8\n",
      "Add : 10 * 2  = 20\n",
      "Add : 10 / 2  = 5.0\n"
     ]
    }
   ],
   "source": [
    "#without logging\n",
    "\n",
    "def add(num1, num2):\n",
    "    return num1 + num2\n",
    "\n",
    "def substract(num1, num2):\n",
    "    return num1 - num2\n",
    "\n",
    "def multiply(num1, num2):\n",
    "    return num1 * num2\n",
    "\n",
    "def divide(num1, num2):\n",
    "    return num1 / num2\n",
    "\n",
    "a=10\n",
    "b=2\n",
    "\n",
    "result_add = add(a, b)\n",
    "print('Add : {} + {}  = {}'.format(a, b, result_add))\n",
    "\n",
    "\n",
    "result_sub = substract(a, b)\n",
    "print('Add : {} - {}  = {}'.format(a, b, result_sub))\n",
    "\n",
    "\n",
    "result_mul = multiply(a, b)\n",
    "print('Add : {} * {}  = {}'.format(a, b, result_mul))\n",
    "\n",
    "\n",
    "result_div = divide(a, b)\n",
    "print('Add : {} / {}  = {}'.format(a, b, result_div))"
   ]
  },
  {
   "cell_type": "code",
   "execution_count": 5,
   "metadata": {},
   "outputs": [
    {
     "name": "stderr",
     "output_type": "stream",
     "text": [
      "WARNING:root:This is a warning message\n",
      "ERROR:root:This is an error message\n",
      "CRITICAL:root:This is a critical message\n"
     ]
    }
   ],
   "source": [
    "# with basic logging\n",
    "\n",
    "import logging\n",
    "\n",
    "logging.debug('This is a debug message')\n",
    "logging.info('This is an info message')\n",
    "logging.warning('This is a warning message')\n",
    "logging.error('This is an error message')\n",
    "logging.critical('This is a critical message')"
   ]
  },
  {
   "cell_type": "code",
   "execution_count": null,
   "metadata": {},
   "outputs": [],
   "source": []
  }
 ],
 "metadata": {
  "kernelspec": {
   "display_name": "Python 3",
   "language": "python",
   "name": "python3"
  },
  "language_info": {
   "codemirror_mode": {
    "name": "ipython",
    "version": 3
   },
   "file_extension": ".py",
   "mimetype": "text/x-python",
   "name": "python",
   "nbconvert_exporter": "python",
   "pygments_lexer": "ipython3",
   "version": "3.7.6"
  }
 },
 "nbformat": 4,
 "nbformat_minor": 4
}
